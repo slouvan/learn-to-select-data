{
 "cells": [
  {
   "cell_type": "code",
   "execution_count": 1,
   "metadata": {
    "collapsed": true
   },
   "outputs": [],
   "source": [
    "import os\n",
    "import sys\n",
    "from collections import defaultdict\n",
    "module_path = os.path.abspath(os.path.join('..'))\n",
    "if module_path not in sys.path:\n",
    "    sys.path.append(module_path)\n",
    "%load_ext autoreload\n",
    "%autoreload 2\n",
    "%reload_ext autoreload"
   ]
  },
  {
   "cell_type": "code",
   "execution_count": 5,
   "metadata": {},
   "outputs": [],
   "source": [
    "from util.CoNLL import readCoNLL"
   ]
  },
  {
   "cell_type": "code",
   "execution_count": 9,
   "metadata": {},
   "outputs": [],
   "source": [
    "sentences = readCoNLL(\"/Users/slouvan/sandbox/emnlp2017-bilstm-cnn-crf/data/CONLL_2003_NER/train.txt.ori\",{0:'tokens', 1:'CONLL_2003_BIO'})"
   ]
  },
  {
   "cell_type": "code",
   "execution_count": 12,
   "metadata": {},
   "outputs": [
    {
     "data": {
      "text/plain": [
       "{'CONLL_2003_BIO': ['B-ORG', 'O', 'B-MISC', 'O', 'O', 'O', 'B-MISC', 'O', 'O'],\n",
       " 'CONLL_2003_IOB': ['I-ORG', 'O', 'I-MISC', 'O', 'O', 'O', 'I-MISC', 'O', 'O'],\n",
       " 'CONLL_2003_IOBES': ['S-ORG',\n",
       "  'O',\n",
       "  'S-MISC',\n",
       "  'O',\n",
       "  'O',\n",
       "  'O',\n",
       "  'S-MISC',\n",
       "  'O',\n",
       "  'O'],\n",
       " 'CONLL_2003_class': ['ORG', 'O', 'MISC', 'O', 'O', 'O', 'MISC', 'O', 'O'],\n",
       " 'tokens': ['EU',\n",
       "  'rejects',\n",
       "  'German',\n",
       "  'call',\n",
       "  'to',\n",
       "  'boycott',\n",
       "  'British',\n",
       "  'lamb',\n",
       "  '.']}"
      ]
     },
     "execution_count": 12,
     "metadata": {},
     "output_type": "execute_result"
    }
   ],
   "source": [
    "sentences[1]"
   ]
  },
  {
   "cell_type": "code",
   "execution_count": 18,
   "metadata": {},
   "outputs": [],
   "source": [
    "tag_counter = defaultdict(int)\n",
    "for sentence in sentences :\n",
    "    annotations = sentence['CONLL_2003_BIO']\n",
    "    for annotation in annotations:\n",
    "        if annotation.startswith(\"B-\"):\n",
    "            field = annotation.split(\"B-\")\n",
    "            tag_counter[field[1]]  =  tag_counter[field[1]] + 1"
   ]
  },
  {
   "cell_type": "code",
   "execution_count": 22,
   "metadata": {},
   "outputs": [
    {
     "data": {
      "text/plain": [
       "14987"
      ]
     },
     "execution_count": 22,
     "metadata": {},
     "output_type": "execute_result"
    }
   ],
   "source": [
    "len(sentences)"
   ]
  },
  {
   "cell_type": "code",
   "execution_count": 42,
   "metadata": {
    "collapsed": true
   },
   "outputs": [],
   "source": [
    "def filter_sent_by_tag(sentences, tags):\n",
    "    counter = 0\n",
    "    filtered_sentence = []\n",
    "    for sentence in sentences :\n",
    "        annotations = sentence['CONLL_2003_BIO']\n",
    "        unique_tags = set()\n",
    "        for annotation in annotations:\n",
    "            if annotation.startswith(\"B-\"):\n",
    "                field = annotation.split(\"B-\")\n",
    "                unique_tags.add(field[1])\n",
    "        if tags == unique_tags: \n",
    "            filtered_sentence.append(sentence)\n",
    "    return filtered_sentence"
   ]
  },
  {
   "cell_type": "code",
   "execution_count": 67,
   "metadata": {},
   "outputs": [
    {
     "name": "stdout",
     "output_type": "stream",
     "text": [
      "448\n"
     ]
    }
   ],
   "source": [
    "get_sent(sentences, {'ORG', 'LOC'})"
   ]
  },
  {
   "cell_type": "code",
   "execution_count": 44,
   "metadata": {},
   "outputs": [
    {
     "name": "stdout",
     "output_type": "stream",
     "text": [
      "2566\n"
     ]
    }
   ],
   "source": [
    "get_sent(sentences, {'ORG'})"
   ]
  },
  {
   "cell_type": "code",
   "execution_count": 45,
   "metadata": {},
   "outputs": [
    {
     "name": "stdout",
     "output_type": "stream",
     "text": [
      "1965\n"
     ]
    }
   ],
   "source": [
    "get_sent(sentences, {'LOC'})"
   ]
  },
  {
   "cell_type": "code",
   "execution_count": 47,
   "metadata": {},
   "outputs": [
    {
     "data": {
      "text/plain": [
       "1308"
      ]
     },
     "execution_count": 47,
     "metadata": {},
     "output_type": "execute_result"
    }
   ],
   "source": [
    "filter_tag = {'PER'}\n",
    "filtered_sentences = filter_sent_by_tag(sentences, filter_tag)\n",
    "len(filtered_sentences)"
   ]
  },
  {
   "cell_type": "code",
   "execution_count": 60,
   "metadata": {},
   "outputs": [],
   "source": [
    "sent_length = [len(sent['tokens']) for sent in filtered_sentences]"
   ]
  },
  {
   "cell_type": "code",
   "execution_count": 65,
   "metadata": {},
   "outputs": [
    {
     "data": {
      "text/plain": [
       "15.070336391437309"
      ]
     },
     "execution_count": 65,
     "metadata": {},
     "output_type": "execute_result"
    }
   ],
   "source": [
    "sum(sent_length) / ( len(sent_length) * 1.0)"
   ]
  },
  {
   "cell_type": "code",
   "execution_count": 66,
   "metadata": {},
   "outputs": [
    {
     "data": {
      "text/plain": [
       "{'CONLL_2003_BIO': ['O', 'B-PER', 'O', 'O', 'O', 'O', 'O', 'O', 'O', 'O'],\n",
       " 'CONLL_2003_IOB': ['O', 'I-PER', 'O', 'O', 'O', 'O', 'O', 'O', 'O', 'O'],\n",
       " 'CONLL_2003_IOBES': ['O', 'S-PER', 'O', 'O', 'O', 'O', 'O', 'O', 'O', 'O'],\n",
       " 'CONLL_2003_class': ['O', 'PER', 'O', 'O', 'O', 'O', 'O', 'O', 'O', 'O'],\n",
       " 'tokens': ['Rare',\n",
       "  'Hendrix',\n",
       "  'song',\n",
       "  'draft',\n",
       "  'sells',\n",
       "  'for',\n",
       "  'almost',\n",
       "  '$',\n",
       "  '17,000',\n",
       "  '.']}"
      ]
     },
     "execution_count": 66,
     "metadata": {},
     "output_type": "execute_result"
    }
   ],
   "source": [
    "filtered_sentences[1]"
   ]
  },
  {
   "cell_type": "code",
   "execution_count": null,
   "metadata": {
    "collapsed": true
   },
   "outputs": [],
   "source": []
  }
 ],
 "metadata": {
  "kernelspec": {
   "display_name": "ukp",
   "language": "python",
   "name": "lxmls"
  },
  "language_info": {
   "codemirror_mode": {
    "name": "ipython",
    "version": 3
   },
   "file_extension": ".py",
   "mimetype": "text/x-python",
   "name": "python",
   "nbconvert_exporter": "python",
   "pygments_lexer": "ipython3",
   "version": "3.5.5"
  }
 },
 "nbformat": 4,
 "nbformat_minor": 2
}
