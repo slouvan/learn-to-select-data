{
 "cells": [
  {
   "cell_type": "code",
   "execution_count": 2,
   "metadata": {
    "collapsed": true
   },
   "outputs": [],
   "source": [
    "# Load dev prediction ATIS STL (95.68 TEST SET) vs MTL (95.94 TEST SET)\n",
    "# results/SingleTask_ATIS_Full/predictions/ATIS_25_dev.conll  (STL ATIS)\n",
    "# results_emnlp/ATIS_ALL_NER_LOWER_LEVEL/predictions/ATIS_dev.conll (MTL ATIS)"
   ]
  },
  {
   "cell_type": "code",
   "execution_count": null,
   "metadata": {
    "collapsed": true
   },
   "outputs": [],
   "source": []
  }
 ],
 "metadata": {
  "kernelspec": {
   "display_name": "ukp",
   "language": "python",
   "name": "lxmls"
  },
  "language_info": {
   "codemirror_mode": {
    "name": "ipython",
    "version": 3
   },
   "file_extension": ".py",
   "mimetype": "text/x-python",
   "name": "python",
   "nbconvert_exporter": "python",
   "pygments_lexer": "ipython3",
   "version": "3.5.5"
  }
 },
 "nbformat": 4,
 "nbformat_minor": 2
}
